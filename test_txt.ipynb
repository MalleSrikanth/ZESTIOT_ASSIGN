{
 "cells": [
  {
   "cell_type": "code",
   "execution_count": 1,
   "metadata": {},
   "outputs": [],
   "source": [
    "import cv2"
   ]
  },
  {
   "cell_type": "code",
   "execution_count": 2,
   "metadata": {},
   "outputs": [],
   "source": [
    "import pandas as pd\n",
    "car_csv = pd.read_csv('datasets/small_test.csv')\n"
   ]
  },
  {
   "cell_type": "code",
   "execution_count": 3,
   "metadata": {},
   "outputs": [
    {
     "data": {
      "text/plain": [
       "'C:\\\\Users\\\\Srikanth\\\\Documents\\\\ZESTIOT\\\\YOLO_DARKNET\\\\darknet-master'"
      ]
     },
     "execution_count": 3,
     "metadata": {},
     "output_type": "execute_result"
    }
   ],
   "source": [
    "import os\n",
    "root = os.getcwd()\n",
    "root"
   ]
  },
  {
   "cell_type": "code",
   "execution_count": 4,
   "metadata": {},
   "outputs": [],
   "source": [
    "def main(id_img):\n",
    "    f= open(id_img + \".txt\",\"w+\")\n",
    "    f.write('%s %s %s %s %s ' %(str(cls_id) , str(X) , str(Y) , str(W), str(H)) )\n",
    "    f.close\n"
   ]
  },
  {
   "cell_type": "code",
   "execution_count": 5,
   "metadata": {},
   "outputs": [
    {
     "data": {
      "text/html": [
       "<div>\n",
       "<style scoped>\n",
       "    .dataframe tbody tr th:only-of-type {\n",
       "        vertical-align: middle;\n",
       "    }\n",
       "\n",
       "    .dataframe tbody tr th {\n",
       "        vertical-align: top;\n",
       "    }\n",
       "\n",
       "    .dataframe thead th {\n",
       "        text-align: right;\n",
       "    }\n",
       "</style>\n",
       "<table border=\"1\" class=\"dataframe\">\n",
       "  <thead>\n",
       "    <tr style=\"text-align: right;\">\n",
       "      <th></th>\n",
       "      <th>Unnamed: 0</th>\n",
       "      <th>FileName</th>\n",
       "      <th>XMin</th>\n",
       "      <th>XMax</th>\n",
       "      <th>YMin</th>\n",
       "      <th>YMax</th>\n",
       "      <th>ClassName</th>\n",
       "    </tr>\n",
       "  </thead>\n",
       "  <tbody>\n",
       "    <tr>\n",
       "      <td>0</td>\n",
       "      <td>0</td>\n",
       "      <td>057c7d02566141cf.jpg</td>\n",
       "      <td>0.000000</td>\n",
       "      <td>0.943750</td>\n",
       "      <td>0.354167</td>\n",
       "      <td>0.989583</td>\n",
       "      <td>Car</td>\n",
       "    </tr>\n",
       "    <tr>\n",
       "      <td>1</td>\n",
       "      <td>1</td>\n",
       "      <td>07e304a0ba61ce5c.jpg</td>\n",
       "      <td>0.077496</td>\n",
       "      <td>0.923994</td>\n",
       "      <td>0.129103</td>\n",
       "      <td>0.899344</td>\n",
       "      <td>Car</td>\n",
       "    </tr>\n",
       "    <tr>\n",
       "      <td>2</td>\n",
       "      <td>2</td>\n",
       "      <td>2c09fab0221652c5.jpg</td>\n",
       "      <td>0.018721</td>\n",
       "      <td>0.973479</td>\n",
       "      <td>0.000000</td>\n",
       "      <td>1.000000</td>\n",
       "      <td>Car</td>\n",
       "    </tr>\n",
       "    <tr>\n",
       "      <td>3</td>\n",
       "      <td>3</td>\n",
       "      <td>2cf7c74b38bd240e.jpg</td>\n",
       "      <td>0.000000</td>\n",
       "      <td>0.998525</td>\n",
       "      <td>0.000000</td>\n",
       "      <td>0.997788</td>\n",
       "      <td>Car</td>\n",
       "    </tr>\n",
       "    <tr>\n",
       "      <td>4</td>\n",
       "      <td>4</td>\n",
       "      <td>3c613b1aa9fa1bbf.jpg</td>\n",
       "      <td>0.278761</td>\n",
       "      <td>0.811209</td>\n",
       "      <td>0.000000</td>\n",
       "      <td>0.816372</td>\n",
       "      <td>Car</td>\n",
       "    </tr>\n",
       "  </tbody>\n",
       "</table>\n",
       "</div>"
      ],
      "text/plain": [
       "   Unnamed: 0              FileName      XMin      XMax      YMin      YMax  \\\n",
       "0           0  057c7d02566141cf.jpg  0.000000  0.943750  0.354167  0.989583   \n",
       "1           1  07e304a0ba61ce5c.jpg  0.077496  0.923994  0.129103  0.899344   \n",
       "2           2  2c09fab0221652c5.jpg  0.018721  0.973479  0.000000  1.000000   \n",
       "3           3  2cf7c74b38bd240e.jpg  0.000000  0.998525  0.000000  0.997788   \n",
       "4           4  3c613b1aa9fa1bbf.jpg  0.278761  0.811209  0.000000  0.816372   \n",
       "\n",
       "  ClassName  \n",
       "0       Car  \n",
       "1       Car  \n",
       "2       Car  \n",
       "3       Car  \n",
       "4       Car  "
      ]
     },
     "execution_count": 5,
     "metadata": {},
     "output_type": "execute_result"
    }
   ],
   "source": [
    "car_csv.head(5)"
   ]
  },
  {
   "cell_type": "code",
   "execution_count": 6,
   "metadata": {},
   "outputs": [],
   "source": [
    "class_id = {'Car': 0}"
   ]
  },
  {
   "cell_type": "code",
   "execution_count": 7,
   "metadata": {},
   "outputs": [
    {
     "name": "stdout",
     "output_type": "stream",
     "text": [
      "\n",
      "057c7d02566141cf.jpg 0.0 0.94375 0.35416666 0.9895833 Car\n",
      "0.471875 0.67187498 0.94375 0.6354166400000001 057c7d02566141cf\n",
      "0\n",
      "\n",
      "07e304a0ba61ce5c.jpg 0.077496275 0.92399406 0.12910284 0.89934355 Car\n",
      "0.5007451675 0.514223195 0.846497785 0.7702407099999999 07e304a0ba61ce5c\n",
      "0\n",
      "\n",
      "2c09fab0221652c5.jpg 0.018720748 0.9734789 0.0 1.0 Car\n",
      "0.496099824 0.5 0.954758152 1.0 2c09fab0221652c5\n",
      "0\n",
      "\n",
      "2cf7c74b38bd240e.jpg 0.0 0.9985251 0.0 0.9977876 Car\n",
      "0.49926255 0.4988938 0.9985251 0.9977876 2cf7c74b38bd240e\n",
      "0\n",
      "\n",
      "3c613b1aa9fa1bbf.jpg 0.27876106 0.81120944 0.0 0.8163716999999999 Car\n",
      "0.54498525 0.40818584999999996 0.5324483799999999 0.8163716999999999 3c613b1aa9fa1bbf\n",
      "0\n",
      "\n",
      "3d78c771fc738382.jpg 0.01875 0.990625 0.16666667 1.0 Car\n",
      "0.5046875 0.583333335 0.9718749999999999 0.83333333 3d78c771fc738382\n",
      "0\n",
      "\n",
      "3d78c771fc738382.jpg 0.0578125 0.1921875 0.08958333 0.26041666 Car\n",
      "0.125 0.17499999500000002 0.13437500000000002 0.17083333 3d78c771fc738382\n",
      "0\n",
      "\n",
      "3d78c771fc738382.jpg 0.615625 0.7875 0.0625 0.20833333 Car\n",
      "0.7015625 0.135416665 0.171875 0.14583333 3d78c771fc738382\n",
      "0\n",
      "\n",
      "510eb4fdb2d017fd.jpg 0.14411765 0.9014706 0.0 1.0 Car\n",
      "0.522794125 0.5 0.75735295 1.0 510eb4fdb2d017fd\n",
      "0\n",
      "\n",
      "6e9893af0ef16242.jpg 0.0 0.9 0.23541667 0.88125 Car\n",
      "0.45 0.5583333349999999 0.9 0.64583333 6e9893af0ef16242\n",
      "0\n",
      "\n",
      "77bc26386377485f.jpg 0.06615385 0.9369231 0.32332563 0.76443416 Car\n",
      "0.501538475 0.543879895 0.87076925 0.44110853 77bc26386377485f\n",
      "0\n",
      "\n",
      "88e5a3fe3fb0b71e.jpg 0.22747415 0.9394386999999998 0.27373070000000005 0.8785871999999999 Car\n",
      "0.583456425 0.57615895 0.7119645499999998 0.6048564999999999 88e5a3fe3fb0b71e\n",
      "0\n",
      "\n",
      "8cb5553e75d3d311.jpg 0.03125 0.909375 0.15208334 0.80625 Car\n",
      "0.4703125 0.47916667 0.878125 0.65416666 8cb5553e75d3d311\n",
      "0\n",
      "\n",
      "8cb5553e75d3d311.jpg 0.2328125 0.7484375 0.07083333 0.29583332 Car\n",
      "0.490625 0.183333325 0.515625 0.22499999 8cb5553e75d3d311\n",
      "0\n",
      "\n",
      "8cb5553e75d3d311.jpg 0.7484375 1.0 0.016666668 0.42083332 Car\n",
      "0.87421875 0.218749994 0.2515625 0.404166652 8cb5553e75d3d311\n",
      "0\n",
      "\n",
      "8f8327364047f87f.jpg 0.1 0.415625 0.25208333 0.49583334 Car\n",
      "0.2578125 0.373958335 0.31562500000000004 0.24375001000000002 8f8327364047f87f\n",
      "0\n",
      "\n",
      "8f8327364047f87f.jpg 0.1984375 0.9203125 0.33541667 0.70416665 Car\n",
      "0.559375 0.51979166 0.721875 0.36874998000000003 8f8327364047f87f\n",
      "0\n",
      "\n",
      "9288da4a44b13c59.jpg 0.106038295 0.93078053 0.20620842 0.9268293 Car\n",
      "0.5184094125 0.56651886 0.824742235 0.72062088 9288da4a44b13c59\n",
      "0\n",
      "\n",
      "9c3fb007a3d0ee39.jpg 0.026041666 0.9453125 0.22556391 0.8897243 Car\n",
      "0.485677083 0.5576441050000001 0.919270834 0.66416039 9c3fb007a3d0ee39\n",
      "0\n",
      "\n",
      "9c3fb007a3d0ee39.jpg 0.46484375 0.69140625 0.15789473 0.2556391 Car\n",
      "0.578125 0.206766915 0.2265625 0.09774437 9c3fb007a3d0ee39\n",
      "0\n",
      "\n",
      "b1ba8e0d1d4d2a7a.jpg 0.028023599 0.07227138400000001 0.2699115 0.31637168 Car\n",
      "0.0501474915 0.29314159 0.04424778500000001 0.04646017999999996 b1ba8e0d1d4d2a7a\n",
      "0\n",
      "\n",
      "b1ba8e0d1d4d2a7a.jpg 0.05162242 0.19469027 0.26327434 0.40486726 Car\n",
      "0.123156345 0.3340708 0.14306785 0.14159292 b1ba8e0d1d4d2a7a\n",
      "0\n",
      "\n",
      "b1ba8e0d1d4d2a7a.jpg 0.07964602 0.9321534 0.19026549 0.8915929 Car\n",
      "0.50589971 0.540929195 0.85250738 0.70132741 b1ba8e0d1d4d2a7a\n",
      "0\n",
      "\n",
      "b1ba8e0d1d4d2a7a.jpg 0.5825958999999999 0.6283186 0.26106194 0.29424778 Car\n",
      "0.60545725 0.27765486 0.045722700000000005 0.03318584000000002 b1ba8e0d1d4d2a7a\n",
      "0\n",
      "\n",
      "b1ba8e0d1d4d2a7a.jpg 0.5958701999999999 1.0 0.30309734 0.6084071 Car\n",
      "0.7979350999999999 0.45575222 0.4041298000000001 0.30530976 b1ba8e0d1d4d2a7a\n",
      "0\n",
      "\n",
      "b1ba8e0d1d4d2a7a.jpg 0.64306784 0.7477876 0.24557522 0.3141593 Car\n",
      "0.69542772 0.27986726 0.10471976000000005 0.06858407999999996 b1ba8e0d1d4d2a7a\n",
      "0\n",
      "\n",
      "b1ba8e0d1d4d2a7a.jpg 0.8097345 0.85103244 0.26327434 0.30088496 Car\n",
      "0.83038347 0.28207965 0.04129793999999998 0.037610619999999984 b1ba8e0d1d4d2a7a\n",
      "0\n",
      "\n",
      "d1cde41cef785481.jpg 0.1546875 1.0 0.20208333 0.74791664 Car\n",
      "0.57734375 0.474999985 0.8453125 0.54583331 d1cde41cef785481\n",
      "0\n",
      "\n",
      "da3f81ad5802bda9.jpg 0.03788904 0.9539919 0.22409639 0.6626506 Car\n",
      "0.49594047 0.443373495 0.91610286 0.43855420999999994 da3f81ad5802bda9\n",
      "0\n",
      "\n",
      "da3f81ad5802bda9.jpg 0.33423546 0.65223277 0.12771085 0.2746988 Car\n",
      "0.49323411500000003 0.201204825 0.31799731000000003 0.14698795000000003 da3f81ad5802bda9\n",
      "0\n",
      "\n",
      "e7c575d27874be9e.jpg 0.04115854 0.27286586 0.23290598 0.41239315 Car\n",
      "0.15701220000000002 0.32264956499999997 0.23170732000000002 0.17948716999999997 e7c575d27874be9e\n",
      "0\n",
      "\n",
      "e7c575d27874be9e.jpg 0.05487805 0.9481707 0.24786325 0.7692308000000001 Car\n",
      "0.501524375 0.508547025 0.89329265 0.5213675500000001 e7c575d27874be9e\n",
      "0\n",
      "\n",
      "e7c575d27874be9e.jpg 0.19512194 0.36890244 0.24786325 0.3888889 Car\n",
      "0.28201219 0.318376075 0.1737805 0.14102564999999997 e7c575d27874be9e\n",
      "0\n",
      "\n",
      "e7c575d27874be9e.jpg 0.36432928 1.0 0.17948718 0.5918803 Car\n",
      "0.68216464 0.38568374 0.63567072 0.41239312000000006 e7c575d27874be9e\n",
      "0\n",
      "\n",
      "fed5c0275ff3a440.jpg 0.0 0.9056046999999998 0.0 0.92699116 Car\n",
      "0.4528023499999999 0.46349558 0.9056046999999998 0.92699116 fed5c0275ff3a440\n",
      "0\n",
      "\n",
      "fed5c0275ff3a440.jpg 0.73893803 1.0 0.0 0.46460176 Car\n",
      "0.869469015 0.23230088 0.26106197 0.46460176 fed5c0275ff3a440\n",
      "0\n",
      "\n",
      "ffb9838816c0021a.jpg 0.0 0.39823008 0.30752212 0.6924779000000001 Car\n",
      "0.19911504 0.50000001 0.39823008 0.3849557800000001 ffb9838816c0021a\n",
      "0\n",
      "\n",
      "ffb9838816c0021a.jpg 0.036873158 0.99115044 0.25442478 0.94690263 Car\n",
      "0.5140117989999999 0.600663705 0.954277282 0.69247785 ffb9838816c0021a\n",
      "0\n"
     ]
    }
   ],
   "source": [
    "for i in (car_csv.iterrows()):\n",
    "    print()\n",
    "\n",
    "    img_id , x_min , x_max , y_min ,y_max , class_name = i[1][1] ,i[1][2] ,i[1][3] , i[1][4] , i[1][5] , i[1][6]\n",
    "    print(img_id , x_min , x_max , y_min ,y_max , class_name)\n",
    "    #base = os.path.join(root,'datasets/small_car_train')\n",
    "    #print(base)\n",
    "    #img = cv2.imread(os.path.join(base , img_id ))\n",
    "    #h,w,c = img.shape\n",
    "    X = (x_max + x_min)/2 # mid point\n",
    "    Y = (y_max + y_min)/2\n",
    "    W = x_max - x_min        # width \n",
    "    H = y_max - y_min       # height\n",
    "    id_img = img_id[:-4]\n",
    "    print(X,Y,W,H    , id_img)\n",
    "    cls_id = class_id[class_name]\n",
    "    print(cls_id)\n",
    "    main(id_img)\n",
    "    #print(img.shape)"
   ]
  },
  {
   "cell_type": "code",
   "execution_count": 8,
   "metadata": {},
   "outputs": [
    {
     "name": "stdout",
     "output_type": "stream",
     "text": [
      "C:\\Users\\Srikanth\\Documents\\ZESTIOT\\YOLO_DARKNET\\darknet-master\\datasets/small_car_test\n"
     ]
    }
   ],
   "source": [
    "test_path = os.path.join(root,'datasets/small_car_test')\n",
    "print(test_path)"
   ]
  },
  {
   "cell_type": "code",
   "execution_count": 9,
   "metadata": {},
   "outputs": [
    {
     "name": "stdout",
     "output_type": "stream",
     "text": [
      "datasets/small_car_test/057c7d02566141cf.jpg\n",
      "datasets/small_car_test/07e304a0ba61ce5c.jpg\n",
      "datasets/small_car_test/2c09fab0221652c5.jpg\n",
      "datasets/small_car_test/2cf7c74b38bd240e.jpg\n",
      "datasets/small_car_test/3c613b1aa9fa1bbf.jpg\n",
      "datasets/small_car_test/3d78c771fc738382.jpg\n",
      "datasets/small_car_test/510eb4fdb2d017fd.jpg\n",
      "datasets/small_car_test/6e9893af0ef16242.jpg\n",
      "datasets/small_car_test/77bc26386377485f.jpg\n",
      "datasets/small_car_test/88e5a3fe3fb0b71e.jpg\n",
      "datasets/small_car_test/8cb5553e75d3d311.jpg\n",
      "datasets/small_car_test/8f8327364047f87f.jpg\n",
      "datasets/small_car_test/9288da4a44b13c59.jpg\n",
      "datasets/small_car_test/9c3fb007a3d0ee39.jpg\n",
      "datasets/small_car_test/b1ba8e0d1d4d2a7a.jpg\n",
      "datasets/small_car_test/d1cde41cef785481.jpg\n",
      "datasets/small_car_test/da3f81ad5802bda9.jpg\n",
      "datasets/small_car_test/e7c575d27874be9e.jpg\n",
      "datasets/small_car_test/fed5c0275ff3a440.jpg\n",
      "datasets/small_car_test/ffb9838816c0021a.jpg\n"
     ]
    }
   ],
   "source": [
    "def t_main(path):\n",
    "    t_path = os.listdir(path)\n",
    "    f= open(\"test.txt\",\"w+\")\n",
    "    for i in t_path:\n",
    "        #print(i)\n",
    "        pp = 'datasets/small_car_test/'+i\n",
    "        print(pp)\n",
    "        f.write('%s\\n' %(str(pp)) )\n",
    "        f.close\n",
    "    \n",
    "t_main(test_path)"
   ]
  },
  {
   "cell_type": "code",
   "execution_count": null,
   "metadata": {},
   "outputs": [],
   "source": [
    "for i in (car_csv.iterrows()):\n",
    "    print()\n",
    "\n",
    "    img_id = i[1][1]\n",
    "    "
   ]
  },
  {
   "cell_type": "code",
   "execution_count": null,
   "metadata": {},
   "outputs": [],
   "source": []
  },
  {
   "cell_type": "code",
   "execution_count": 37,
   "metadata": {},
   "outputs": [
    {
     "data": {
      "text/plain": [
       "'C:\\\\Users\\\\Srikanth\\\\Documents\\\\ZESTIOT\\\\YOLO_DARKNET\\\\darknet-master'"
      ]
     },
     "execution_count": 37,
     "metadata": {},
     "output_type": "execute_result"
    }
   ],
   "source": []
  },
  {
   "cell_type": "code",
   "execution_count": 88,
   "metadata": {},
   "outputs": [
    {
     "data": {
      "text/plain": [
       "0"
      ]
     },
     "execution_count": 88,
     "metadata": {},
     "output_type": "execute_result"
    }
   ],
   "source": [
    "class_id['Car']"
   ]
  },
  {
   "cell_type": "code",
   "execution_count": null,
   "metadata": {},
   "outputs": [],
   "source": []
  }
 ],
 "metadata": {
  "kernelspec": {
   "display_name": "Python 3",
   "language": "python",
   "name": "python3"
  },
  "language_info": {
   "codemirror_mode": {
    "name": "ipython",
    "version": 3
   },
   "file_extension": ".py",
   "mimetype": "text/x-python",
   "name": "python",
   "nbconvert_exporter": "python",
   "pygments_lexer": "ipython3",
   "version": "3.6.9"
  }
 },
 "nbformat": 4,
 "nbformat_minor": 2
}
